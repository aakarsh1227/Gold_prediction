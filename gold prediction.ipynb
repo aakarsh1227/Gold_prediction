{
 "cells": [
  {
   "cell_type": "code",
   "execution_count": 1,
   "id": "ffbc3bf3",
   "metadata": {},
   "outputs": [],
   "source": [
    "import numpy as np\n",
    "import pandas as pd\n",
    "import seaborn as  sns\n",
    "import matplotlib.pyplot as plt\n",
    "from sklearn.model_selection import train_test_split\n",
    "from sklearn.ensemble import RandomForestRegressor\n",
    "from sklearn import metrics"
   ]
  },
  {
   "cell_type": "code",
   "execution_count": 2,
   "id": "55f31f97",
   "metadata": {},
   "outputs": [],
   "source": [
    "dataset = pd.read_csv('Gold Price.csv')"
   ]
  },
  {
   "cell_type": "code",
   "execution_count": 3,
   "id": "49967937",
   "metadata": {},
   "outputs": [
    {
     "data": {
      "text/plain": [
       "(2227, 7)"
      ]
     },
     "execution_count": 3,
     "metadata": {},
     "output_type": "execute_result"
    }
   ],
   "source": [
    "dataset.shape"
   ]
  },
  {
   "cell_type": "code",
   "execution_count": 4,
   "id": "4622c799",
   "metadata": {},
   "outputs": [
    {
     "data": {
      "text/plain": [
       "<bound method NDFrame.head of             Date  Price   Open   High    Low  Volume  Chg%\n",
       "0     2014-01-01  29542  29435  29598  29340    2930  0.25\n",
       "1     2014-01-02  29975  29678  30050  29678    3140  1.47\n",
       "2     2014-01-03  29727  30031  30125  29539    3050 -0.83\n",
       "3     2014-01-04  29279  29279  29279  29279       0 -1.51\n",
       "4     2014-01-06  29119  29300  29395  29051   24380 -0.55\n",
       "...          ...    ...    ...    ...    ...     ...   ...\n",
       "2222  2022-08-01  51260  51899  51899  51023    1350 -0.20\n",
       "2223  2022-08-02  51274  51438  51527  51100     230  0.03\n",
       "2224  2022-08-03  51225  51250  51375  51137      70 -0.10\n",
       "2225  2022-08-04  51802  51713  51903  51713      10  1.13\n",
       "2226  2022-08-05  51820  51935  51965  51525   11080  0.03\n",
       "\n",
       "[2227 rows x 7 columns]>"
      ]
     },
     "execution_count": 4,
     "metadata": {},
     "output_type": "execute_result"
    }
   ],
   "source": [
    "dataset.head"
   ]
  },
  {
   "cell_type": "code",
   "execution_count": 5,
   "id": "26f30321",
   "metadata": {},
   "outputs": [
    {
     "data": {
      "text/html": [
       "<div>\n",
       "<style scoped>\n",
       "    .dataframe tbody tr th:only-of-type {\n",
       "        vertical-align: middle;\n",
       "    }\n",
       "\n",
       "    .dataframe tbody tr th {\n",
       "        vertical-align: top;\n",
       "    }\n",
       "\n",
       "    .dataframe thead th {\n",
       "        text-align: right;\n",
       "    }\n",
       "</style>\n",
       "<table border=\"1\" class=\"dataframe\">\n",
       "  <thead>\n",
       "    <tr style=\"text-align: right;\">\n",
       "      <th></th>\n",
       "      <th>Date</th>\n",
       "      <th>Price</th>\n",
       "      <th>Open</th>\n",
       "      <th>High</th>\n",
       "      <th>Low</th>\n",
       "      <th>Volume</th>\n",
       "      <th>Chg%</th>\n",
       "    </tr>\n",
       "  </thead>\n",
       "  <tbody>\n",
       "    <tr>\n",
       "      <th>2222</th>\n",
       "      <td>2022-08-01</td>\n",
       "      <td>51260</td>\n",
       "      <td>51899</td>\n",
       "      <td>51899</td>\n",
       "      <td>51023</td>\n",
       "      <td>1350</td>\n",
       "      <td>-0.20</td>\n",
       "    </tr>\n",
       "    <tr>\n",
       "      <th>2223</th>\n",
       "      <td>2022-08-02</td>\n",
       "      <td>51274</td>\n",
       "      <td>51438</td>\n",
       "      <td>51527</td>\n",
       "      <td>51100</td>\n",
       "      <td>230</td>\n",
       "      <td>0.03</td>\n",
       "    </tr>\n",
       "    <tr>\n",
       "      <th>2224</th>\n",
       "      <td>2022-08-03</td>\n",
       "      <td>51225</td>\n",
       "      <td>51250</td>\n",
       "      <td>51375</td>\n",
       "      <td>51137</td>\n",
       "      <td>70</td>\n",
       "      <td>-0.10</td>\n",
       "    </tr>\n",
       "    <tr>\n",
       "      <th>2225</th>\n",
       "      <td>2022-08-04</td>\n",
       "      <td>51802</td>\n",
       "      <td>51713</td>\n",
       "      <td>51903</td>\n",
       "      <td>51713</td>\n",
       "      <td>10</td>\n",
       "      <td>1.13</td>\n",
       "    </tr>\n",
       "    <tr>\n",
       "      <th>2226</th>\n",
       "      <td>2022-08-05</td>\n",
       "      <td>51820</td>\n",
       "      <td>51935</td>\n",
       "      <td>51965</td>\n",
       "      <td>51525</td>\n",
       "      <td>11080</td>\n",
       "      <td>0.03</td>\n",
       "    </tr>\n",
       "  </tbody>\n",
       "</table>\n",
       "</div>"
      ],
      "text/plain": [
       "            Date  Price   Open   High    Low  Volume  Chg%\n",
       "2222  2022-08-01  51260  51899  51899  51023    1350 -0.20\n",
       "2223  2022-08-02  51274  51438  51527  51100     230  0.03\n",
       "2224  2022-08-03  51225  51250  51375  51137      70 -0.10\n",
       "2225  2022-08-04  51802  51713  51903  51713      10  1.13\n",
       "2226  2022-08-05  51820  51935  51965  51525   11080  0.03"
      ]
     },
     "execution_count": 5,
     "metadata": {},
     "output_type": "execute_result"
    }
   ],
   "source": [
    "dataset.tail()"
   ]
  },
  {
   "cell_type": "code",
   "execution_count": 6,
   "id": "d42b6a9a",
   "metadata": {},
   "outputs": [
    {
     "name": "stdout",
     "output_type": "stream",
     "text": [
      "<class 'pandas.core.frame.DataFrame'>\n",
      "RangeIndex: 2227 entries, 0 to 2226\n",
      "Data columns (total 7 columns):\n",
      " #   Column  Non-Null Count  Dtype  \n",
      "---  ------  --------------  -----  \n",
      " 0   Date    2227 non-null   object \n",
      " 1   Price   2227 non-null   int64  \n",
      " 2   Open    2227 non-null   int64  \n",
      " 3   High    2227 non-null   int64  \n",
      " 4   Low     2227 non-null   int64  \n",
      " 5   Volume  2227 non-null   int64  \n",
      " 6   Chg%    2227 non-null   float64\n",
      "dtypes: float64(1), int64(5), object(1)\n",
      "memory usage: 121.9+ KB\n"
     ]
    }
   ],
   "source": [
    "dataset.info()"
   ]
  },
  {
   "cell_type": "code",
   "execution_count": 7,
   "id": "c2180c71",
   "metadata": {},
   "outputs": [
    {
     "data": {
      "text/plain": [
       "Date      0\n",
       "Price     0\n",
       "Open      0\n",
       "High      0\n",
       "Low       0\n",
       "Volume    0\n",
       "Chg%      0\n",
       "dtype: int64"
      ]
     },
     "execution_count": 7,
     "metadata": {},
     "output_type": "execute_result"
    }
   ],
   "source": [
    "dataset.isnull().sum()"
   ]
  },
  {
   "cell_type": "code",
   "execution_count": 8,
   "id": "fd72f9b6",
   "metadata": {},
   "outputs": [
    {
     "ename": "NameError",
     "evalue": "name 'da' is not defined",
     "output_type": "error",
     "traceback": [
      "\u001b[1;31m---------------------------------------------------------------------------\u001b[0m",
      "\u001b[1;31mNameError\u001b[0m                                 Traceback (most recent call last)",
      "Cell \u001b[1;32mIn[8], line 1\u001b[0m\n\u001b[1;32m----> 1\u001b[0m da\n",
      "\u001b[1;31mNameError\u001b[0m: name 'da' is not defined"
     ]
    }
   ],
   "source": [
    "da"
   ]
  },
  {
   "cell_type": "code",
   "execution_count": null,
   "id": "44743f67",
   "metadata": {},
   "outputs": [],
   "source": []
  }
 ],
 "metadata": {
  "kernelspec": {
   "display_name": "Python 3 (ipykernel)",
   "language": "python",
   "name": "python3"
  },
  "language_info": {
   "codemirror_mode": {
    "name": "ipython",
    "version": 3
   },
   "file_extension": ".py",
   "mimetype": "text/x-python",
   "name": "python",
   "nbconvert_exporter": "python",
   "pygments_lexer": "ipython3",
   "version": "3.11.5"
  }
 },
 "nbformat": 4,
 "nbformat_minor": 5
}
